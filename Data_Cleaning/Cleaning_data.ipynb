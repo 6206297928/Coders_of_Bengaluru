{
 "cells": [
  {
   "cell_type": "code",
   "execution_count": 8,
   "id": "5ab90ae6-6e70-4aae-91b9-f3d059a8169e",
   "metadata": {},
   "outputs": [
    {
     "name": "stdout",
     "output_type": "stream",
     "text": [
      "Data has been cleaned successfully.\n"
     ]
    }
   ],
   "source": [
    "import json\n",
    "def clean_data(data):\n",
    "    #Remove users with missing name\n",
    "    data['users']=[user for user in data['users'] if user['name'].strip()]\n",
    "\n",
    "    #Remove duplicates friends\n",
    "    for user in data['users']:\n",
    "        user['friends']=list(set(user['friends']))\n",
    "        \n",
    "    #Remove inactive users\n",
    "    data['users']=[user for user in data['users'] if user['friends']or user['liked_pages']]\n",
    "\n",
    "    #Remove duplicate pages\n",
    "    unique_pages={}\n",
    "    for page in data['pages']:\n",
    "        unique_pages[page['id']]=page\n",
    "    data['pages']=list(unique_pages.values())\n",
    "    return data\n",
    "#Load the data\n",
    "data=json.load(open(\"data2.json\"))\n",
    "data=clean_data(data)\n",
    "json.dump(data,open(\"cleaned_data2.json\",\"w\"),indent=4)\n",
    "print(\"Data has been cleaned successfully.\")"
   ]
  },
  {
   "cell_type": "code",
   "execution_count": null,
   "id": "4c98eb80-9a57-4cc9-8546-3b5b1dc1df9c",
   "metadata": {},
   "outputs": [],
   "source": []
  },
  {
   "cell_type": "code",
   "execution_count": null,
   "id": "73f99f12-e1b9-40b1-947f-57eec30473c3",
   "metadata": {},
   "outputs": [],
   "source": []
  }
 ],
 "metadata": {
  "kernelspec": {
   "display_name": "Python 3 (ipykernel)",
   "language": "python",
   "name": "python3"
  },
  "language_info": {
   "codemirror_mode": {
    "name": "ipython",
    "version": 3
   },
   "file_extension": ".py",
   "mimetype": "text/x-python",
   "name": "python",
   "nbconvert_exporter": "python",
   "pygments_lexer": "ipython3",
   "version": "3.13.5"
  },
  "widgets": {
   "application/vnd.jupyter.widget-state+json": {
    "state": {},
    "version_major": 2,
    "version_minor": 0
   }
  }
 },
 "nbformat": 4,
 "nbformat_minor": 5
}
