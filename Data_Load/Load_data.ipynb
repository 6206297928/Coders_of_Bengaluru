{
 "cells": [
  {
   "cell_type": "code",
   "execution_count": 18,
   "id": "5459cdbf-90dc-42a5-ae79-b6288bf1ebc9",
   "metadata": {},
   "outputs": [],
   "source": [
    "#Function to load the data\n",
    "import json\n",
    "def load_data(filename):\n",
    "    with open(filename,\"r\") as f:\n",
    "        data=json.load(f)\n",
    "    return data"
   ]
  },
  {
   "cell_type": "code",
   "execution_count": 19,
   "id": "e29ad2ab-531d-44d6-8eb9-4598f15d20c5",
   "metadata": {},
   "outputs": [],
   "source": [
    "data=load_data(\"data.json\")"
   ]
  },
  {
   "cell_type": "code",
   "execution_count": 20,
   "id": "4b78d34a-c6db-4c5c-bdaa-b8f138fa7ce7",
   "metadata": {},
   "outputs": [
    {
     "data": {
      "text/plain": [
       "{'users': [{'id': 1, 'name': 'Amit', 'friends': [2, 3], 'liked_pages': [101]},\n",
       "  {'id': 2, 'name': 'Priya', 'friends': [1, 4], 'liked_pages': [102]},\n",
       "  {'id': 3, 'name': 'Rahul', 'friends': [1], 'liked_pages': [101, 103]},\n",
       "  {'id': 4, 'name': 'Sara', 'friends': [2], 'liked_pages': [104]}],\n",
       " 'pages': [{'id': 101, 'name': 'Python Developers'},\n",
       "  {'id': 102, 'name': 'Data Science Enthusiasts'},\n",
       "  {'id': 103, 'name': 'AI & ML Community'},\n",
       "  {'id': 104, 'name': 'Web Dev Hub'}]}"
      ]
     },
     "execution_count": 20,
     "metadata": {},
     "output_type": "execute_result"
    }
   ],
   "source": [
    "data"
   ]
  },
  {
   "cell_type": "code",
   "execution_count": 21,
   "id": "1c69e72c-9151-4ad0-9d3d-45a6e7f22e58",
   "metadata": {},
   "outputs": [
    {
     "data": {
      "text/plain": [
       "dict"
      ]
     },
     "execution_count": 21,
     "metadata": {},
     "output_type": "execute_result"
    }
   ],
   "source": [
    "type(data)"
   ]
  },
  {
   "cell_type": "code",
   "execution_count": 40,
   "id": "ecdf0b63-36ae-416c-a30c-966a06e99bf3",
   "metadata": {},
   "outputs": [
    {
     "name": "stdout",
     "output_type": "stream",
     "text": [
      "ID 1 : Amit is friends with [2, 3] and liked pages are : [101].\n",
      "ID 2 : Priya is friends with [1, 4] and liked pages are : [102].\n",
      "ID 3 : Rahul is friends with [1] and liked pages are : [101, 103].\n",
      "ID 4 : Sara is friends with [2] and liked pages are : [104].\n",
      "\n",
      "pages information :-\n",
      "\n",
      "101 : Python Developers\n",
      "102 : Data Science Enthusiasts\n",
      "103 : AI & ML Community\n",
      "104 : Web Dev Hub\n"
     ]
    }
   ],
   "source": [
    "#write a function to display user's and their connections\n",
    "def display_users(data):\n",
    "    for user in data['users']:\n",
    "        print(f\"ID {user ['id']} : {user ['name']} is friends with {user ['friends']} and liked pages are : {user ['liked_pages']}.\")\n",
    "    print(\"\\npages information :-\\n\")\n",
    "    for page in data['pages']:\n",
    "        print(f\"{page['id']} : {page['name']}\")\n",
    "    \n",
    "display_users(data)"
   ]
  },
  {
   "cell_type": "code",
   "execution_count": 38,
   "id": "547d6a49-a712-4b61-897d-3209315a40e0",
   "metadata": {},
   "outputs": [
    {
     "name": "stdout",
     "output_type": "stream",
     "text": [
      "ID 1 : Amit is friends with [2, 3] and liked pages are : [101].\n",
      "ID 2 : Priya is friends with [1, 4] and liked pages are : [102].\n",
      "ID 3 : Rahul is friends with [1] and liked pages are : [101, 103].\n",
      "ID 4 : Sara is friends with [2] and liked pages are : [104].\n",
      "\n",
      "pages information :-\n",
      "\n",
      "101 : Python Developers\n",
      "102 : Data Science Enthusiasts\n",
      "103 : AI & ML Community\n",
      "104 : Web Dev Hub\n",
      "\n",
      "Friends information :-\n",
      "\n"
     ]
    }
   ],
   "source": [
    "display_users(data)"
   ]
  },
  {
   "cell_type": "code",
   "execution_count": null,
   "id": "0231b0de-2591-40b5-8bb3-6ad35f623313",
   "metadata": {},
   "outputs": [],
   "source": []
  }
 ],
 "metadata": {
  "kernelspec": {
   "display_name": "Python 3 (ipykernel)",
   "language": "python",
   "name": "python3"
  },
  "language_info": {
   "codemirror_mode": {
    "name": "ipython",
    "version": 3
   },
   "file_extension": ".py",
   "mimetype": "text/x-python",
   "name": "python",
   "nbconvert_exporter": "python",
   "pygments_lexer": "ipython3",
   "version": "3.13.5"
  }
 },
 "nbformat": 4,
 "nbformat_minor": 5
}
