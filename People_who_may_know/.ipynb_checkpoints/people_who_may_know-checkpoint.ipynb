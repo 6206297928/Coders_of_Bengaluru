{
 "cells": [
  {
   "cell_type": "code",
   "execution_count": 8,
   "id": "60a931c9-86ec-4cc5-b27b-8ba2f05328e9",
   "metadata": {},
   "outputs": [
    {
     "name": "stdout",
     "output_type": "stream",
     "text": [
      "Mutual friend of 10 are [11, 6, 4, 7, 14, 15, 18, 1, 2, 3, 13, 22]\n"
     ]
    }
   ],
   "source": [
    "import json\n",
    "\n",
    "def load_data(filename):\n",
    "    with open(filename,'r') as f:\n",
    "        return json.load(f)\n",
    "def find_people_you_may_know(user_id,data):\n",
    "    user_friends={}\n",
    "    for user in data['users']:\n",
    "        user_friends[user['id']]= set(user['friends'])\n",
    "    if user_id not in user_friends:\n",
    "        return[]\n",
    "\n",
    "    direct_friends=user_friends[user_id]\n",
    "    suggestions={}\n",
    "    for friend in direct_friends:\n",
    "        for mutual in user_friends[friend]:\n",
    "            if mutual!=user_id and mutual not in direct_friends:\n",
    "                #count mutual friends\n",
    "                suggestions[mutual]=suggestions.get(mutual,0)+1\n",
    "    sorted_suggestions=sorted(suggestions.items(),key=lambda x:x[1],reverse=True)\n",
    "    return [user_id for user_id,mutual_count in sorted_suggestions]\n",
    "            \n",
    "\n",
    "#Load the Data\n",
    "data=load_data('massive_data.json')\n",
    "user_id=10\n",
    "recc=find_people_you_may_know(user_id,data) #recc : reccomandation\n",
    "print(f\"Mutual friend of {user_id} are {recc}\")"
   ]
  },
  {
   "cell_type": "code",
   "execution_count": null,
   "id": "7487e575-7604-4cae-b6c2-d00b3a27a9d7",
   "metadata": {},
   "outputs": [],
   "source": []
  },
  {
   "cell_type": "code",
   "execution_count": null,
   "id": "886597a4-6a56-483f-856c-aa2d6085b95b",
   "metadata": {},
   "outputs": [],
   "source": []
  }
 ],
 "metadata": {
  "kernelspec": {
   "display_name": "Python 3 (ipykernel)",
   "language": "python",
   "name": "python3"
  },
  "language_info": {
   "codemirror_mode": {
    "name": "ipython",
    "version": 3
   },
   "file_extension": ".py",
   "mimetype": "text/x-python",
   "name": "python",
   "nbconvert_exporter": "python",
   "pygments_lexer": "ipython3",
   "version": "3.13.5"
  },
  "widgets": {
   "application/vnd.jupyter.widget-state+json": {
    "state": {},
    "version_major": 2,
    "version_minor": 0
   }
  }
 },
 "nbformat": 4,
 "nbformat_minor": 5
}
