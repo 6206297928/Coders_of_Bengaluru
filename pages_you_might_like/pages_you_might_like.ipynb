{
 "cells": [
  {
   "cell_type": "code",
   "execution_count": 12,
   "id": "ee3e34d9-9387-47d8-820b-3c97c5efee04",
   "metadata": {},
   "outputs": [
    {
     "name": "stdout",
     "output_type": "stream",
     "text": [
      "[(103, 2), (105, 1), (107, 1), (104, 0), (106, 0), (108, 0), (109, 0), (110, 0), (111, 0), (112, 0), (113, 0), (114, 0), (115, 0), (116, 0), (117, 0), (118, 0), (119, 0), (120, 0), (121, 0), (122, 0), (123, 0), (124, 0), (125, 0), (126, 0), (127, 0)]\n"
     ]
    }
   ],
   "source": [
    "import json\n",
    "#function to load the json data\n",
    "def load_data(filename):\n",
    "    with open(filename,'r') as f:\n",
    "        return json.load(f)\n",
    "#Function to find pages a user might like based on common interests\n",
    "def find_pages_you_might_like(user_id,data):\n",
    "    #Dictionary to store user interaction with pages\n",
    "    user_pages={}\n",
    "    for user in data['users']:\n",
    "        user_pages[user['id']]=set(user['liked_pages'])\n",
    "\n",
    "    #if the user isn't found\n",
    "    if user_id not in user_pages:\n",
    "        return[]\n",
    "    user_liked_pages=user_pages[user_id]\n",
    "    page_suggestions={}\n",
    "\n",
    "    for other_user,pages in user_pages.items():\n",
    "        if other_user !=user_id:\n",
    "            shared_pages=user_liked_pages.intersection(pages)\n",
    "        for page in pages:\n",
    "            if page not in user_liked_pages:\n",
    "                page_suggestions[page]=page_suggestions.get(page,0) + len(shared_pages)\n",
    "\n",
    "    sorted_pages = sorted(page_suggestions.items(),key=lambda x:x[1],reverse=True)\n",
    "    return [(page_id ,score)for page_id,score in sorted_pages]\n",
    "\n",
    "\n",
    "\n",
    "\n",
    "\n",
    "\n",
    "\n",
    "\n",
    "\n",
    "    \n",
    "data=load_data('massive_data.json')\n",
    "user_id=1\n",
    "pages_recc=find_pages_you_might_like(user_id,data)\n",
    "print(pages_recc)"
   ]
  },
  {
   "cell_type": "code",
   "execution_count": null,
   "id": "d085a916-7a1d-4bc7-b06f-2d19f07655af",
   "metadata": {},
   "outputs": [],
   "source": []
  }
 ],
 "metadata": {
  "kernelspec": {
   "display_name": "Python 3 (ipykernel)",
   "language": "python",
   "name": "python3"
  },
  "language_info": {
   "codemirror_mode": {
    "name": "ipython",
    "version": 3
   },
   "file_extension": ".py",
   "mimetype": "text/x-python",
   "name": "python",
   "nbconvert_exporter": "python",
   "pygments_lexer": "ipython3",
   "version": "3.13.5"
  },
  "widgets": {
   "application/vnd.jupyter.widget-state+json": {
    "state": {},
    "version_major": 2,
    "version_minor": 0
   }
  }
 },
 "nbformat": 4,
 "nbformat_minor": 5
}
